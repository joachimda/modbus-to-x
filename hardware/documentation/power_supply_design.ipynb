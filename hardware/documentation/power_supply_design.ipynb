{
 "cells": [
  {
   "cell_type": "markdown",
   "id": "5fb146df-8a58-4c1e-97d7-d1a60e3225e0",
   "metadata": {},
   "source": [
    "### Power Supply Design\n",
    "We will be using the TI LMR14020 SIMPLE SWITCHER® Power Converter, to step down a 9-16V DC power supply\n",
    "#### Design Parameters\n",
    "<div style=\"display: flex; align-items: flex-start; gap: 40px;\">\n",
    "\n",
    "  <!-- Left: Power Supply Specs Table -->\n",
    "  <div style=\"flex: 1;\">\n",
    "    <h3>🔧 Power Supply Specifications</h3>\n",
    "    <table>\n",
    "      <tr><th style=\"text-align:left\">Parameter</th><th style=\"text-align:left\">Value</th></tr>\n",
    "      <tr><td>Input Voltage, V<sub>IN</sub></td><td>9 V to 16 V, typical 12 V</td></tr>\n",
    "      <tr><td>Output Voltage, V<sub>OUT</sub></td><td>5.0 V</td></tr>\n",
    "      <tr><td>Maximum Output Current, I<sub>O_MAX</sub></td><td>2 A</td></tr>\n",
    "      <tr><td>Transient Response<br>(0.2 A → 2 A)</td><td>8%</td></tr>\n",
    "      <tr><td>Output Voltage Ripple</td><td>50 mV</td></tr>\n",
    "      <tr><td>Input Voltage Ripple</td><td>200 mV</td></tr>\n",
    "      <tr><td>Switching Frequency, f<sub>sw</sub></td><td>1 MHz</td></tr>\n",
    "      <tr><td>Soft-start Time</td><td>5 ms</td></tr>\n",
    "    </table>\n",
    "  </div>\n",
    "\n",
    "<table>\n",
    "  <tr>\n",
    "    <td><img src=\"LMR14020_sample_circuit.png\" alt=\"LMR14020 Application Circuit\" width=\"350\"></td>\n",
    "  </tr>\n",
    "  <tr>\n",
    "    <td style=\"text-align:center; font-size:90%; color:gray;\">\n",
    "      Figure 1: Typical application circuit for TI LMR14020.<br>\n",
    "      Source: TI Datasheet [1]\n",
    "    </td>\n",
    "  </tr>\n",
    "</table>\n",
    "\n",
    "</div>\n",
    "\n",
    "#### Output Capacitor ( $C_{out}$ )\n",
    "* Limit output ripple voltage to 50mV\n",
    "* Handle load steps from ESP32 Wi-Fi bursts or RS485 TX\n",
    "\n",
    "Using the formula for ripple voltage estimation in buck converters:\n",
    "\\begin{equation}\\label{eq:voltage_ripple}\n",
    "\\Delta V_{OUT} \\approx \\frac{\\Delta I_L}{8 \\cdot f_{sw} \\cdot C_{OUT}}\n",
    "\\end{equation}\n",
    "\n",
    "\n",
    "Given a ripple current of 30% of $I_{out} → ΔI_L=0.3*2 = 0.6A$ \n",
    "\n",
    "The theoretical minimum of $C_{out}$ is given by $C_{out}=\\frac{ΔI_L}{8*f_{sw}*ΔV_{out}}$ = $C_{out}=(0.6)/(8*1*10^6*0.05)$\n"
   ]
  },
  {
   "cell_type": "markdown",
   "id": "247187ce-d2c4-48e5-b9f1-0633235b291a",
   "metadata": {},
   "source": []
  },
  {
   "cell_type": "markdown",
   "id": "3f3d8828-230c-4562-95a5-934315fdaa58",
   "metadata": {},
   "source": [
    "## 📚 References\n",
    "\n",
    "[1] Texas Instruments. *LMR14020 SIMPLE SWITCHER® Power Converter 40V 2A, 2.2MHz Step-Down\n",
    "Converter With 40µA IQ*. Datasheet, REVISED DECEMBER 2024.  \n",
    "Available at: [https://www.ti.com/lit/ds/symlink/lmr14020.pdf](https://www.ti.com/lit/ds/symlink/lmr14020.pdf)"
   ]
  }
 ],
 "metadata": {
  "kernelspec": {
   "display_name": "SageMath 10.6",
   "language": "sage",
   "name": "sagemath"
  },
  "language_info": {
   "codemirror_mode": {
    "name": "ipython",
    "version": 3
   },
   "file_extension": ".py",
   "mimetype": "text/x-python",
   "name": "python",
   "nbconvert_exporter": "python",
   "pygments_lexer": "ipython3",
   "version": "3.11.13"
  }
 },
 "nbformat": 4,
 "nbformat_minor": 5
}
